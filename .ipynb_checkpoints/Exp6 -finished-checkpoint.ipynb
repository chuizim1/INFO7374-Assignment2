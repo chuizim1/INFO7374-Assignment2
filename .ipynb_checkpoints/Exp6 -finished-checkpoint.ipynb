{
 "cells": [
  {
   "cell_type": "code",
   "execution_count": 1,
   "metadata": {},
   "outputs": [
    {
     "name": "stderr",
     "output_type": "stream",
     "text": [
      "Using TensorFlow backend.\n"
     ]
    }
   ],
   "source": [
    "from keras import models\n",
    "from keras import layers\n",
    "from keras import optimizers\n",
    "from keras.preprocessing.image import ImageDataGenerator\n",
    "from keras.datasets import cifar10\n",
    "import numpy as np\n",
    "from keras.utils.np_utils import to_categorical\n",
    "from keras.callbacks import LearningRateScheduler, TensorBoard, ModelCheckpoint\n",
    "log_filepath  = './inception_resnet_v2'\n",
    "from skimage.transform import resize\n",
    "import tensorflow as tf\n",
    "import skimage\n",
    "import skimage.io\n",
    "import skimage.transform"
   ]
  },
  {
   "cell_type": "markdown",
   "metadata": {},
   "source": [
    "# Load InceptionResNetV2"
   ]
  },
  {
   "cell_type": "code",
   "execution_count": 2,
   "metadata": {},
   "outputs": [],
   "source": [
    "from keras.applications import InceptionResNetV2"
   ]
  },
  {
   "cell_type": "code",
   "execution_count": 3,
   "metadata": {},
   "outputs": [],
   "source": [
    "irnv = InceptionResNetV2(weights='imagenet', include_top=False, input_shape=(75, 75, 3))"
   ]
  },
  {
   "cell_type": "code",
   "execution_count": 4,
   "metadata": {},
   "outputs": [
    {
     "name": "stdout",
     "output_type": "stream",
     "text": [
      "_________________________________________________________________\n",
      "Layer (type)                 Output Shape              Param #   \n",
      "=================================================================\n",
      "inception_resnet_v2 (Model)  (None, 1, 1, 1536)        54336736  \n",
      "=================================================================\n",
      "Total params: 54,336,736\n",
      "Trainable params: 54,276,192\n",
      "Non-trainable params: 60,544\n",
      "_________________________________________________________________\n"
     ]
    }
   ],
   "source": [
    " # Create the model\n",
    "model = models.Sequential()\n",
    "\n",
    "model.add(irnv)\n",
    " \n",
    "# Add new layers\n",
    "#model.add(layers.Flatten())\n",
    "#model.add(layers.Dense(1024, activation='relu'))\n",
    "#model.add(layers.Dropout(0.5))\n",
    "#model.add(layers.Dense(10, activation='softmax'))\n",
    " \n",
    "# Show a summary of the model. Check the number of trainable parameters\n",
    "model.summary()"
   ]
  },
  {
   "cell_type": "markdown",
   "metadata": {},
   "source": [
    "# Load data"
   ]
  },
  {
   "cell_type": "code",
   "execution_count": 5,
   "metadata": {},
   "outputs": [],
   "source": [
    "import random\n",
    "import cv2\n",
    "from keras.optimizers import SGD"
   ]
  },
  {
   "cell_type": "code",
   "execution_count": 6,
   "metadata": {},
   "outputs": [],
   "source": [
    "(x_train, y_train), (x_test, y_test) = cifar10.load_data()"
   ]
  },
  {
   "cell_type": "code",
   "execution_count": 7,
   "metadata": {},
   "outputs": [
    {
     "name": "stdout",
     "output_type": "stream",
     "text": [
      "Example training images and their labels: [6, 9, 9, 4, 1]\n",
      "Corresponding classes for the labels: ['frog', 'truck', 'truck', 'deer', 'automobile']\n"
     ]
    }
   ],
   "source": [
    "import matplotlib.pyplot as plt\n",
    "\n",
    "cifar_classes = ['airplane', 'automobile', 'bird', 'cat', 'deer', 'dog', 'frog', 'horse', 'ship', 'truck']\n",
    "print('Example training images and their labels: ' + str([x[0] for x in y_train[0:5]])) \n",
    "print('Corresponding classes for the labels: ' + str([cifar_classes[x[0]] for x in y_train[0:5]]))\n",
    "\n",
    "f, axarr = plt.subplots(1, 5)\n",
    "f.set_size_inches(16, 6)\n",
    "\n",
    "for i in range(5):\n",
    "    img = x_train[i]\n",
    "    axarr[i].imshow(img)"
   ]
  },
  {
   "cell_type": "code",
   "execution_count": 9,
   "metadata": {},
   "outputs": [],
   "source": [
    "# limit the amount of the data\n",
    "# train data\n",
    "ind_train = random.sample(list(range(x_train.shape[0])), 2000)\n",
    "x_train = x_train[ind_train]\n",
    "y_train = y_train[ind_train]\n",
    "\n",
    "# test data\n",
    "ind_test = random.sample(list(range(x_test.shape[0])), 2000)\n",
    "x_test = x_test[ind_test]\n",
    "y_test = y_test[ind_test]"
   ]
  },
  {
   "cell_type": "code",
   "execution_count": 10,
   "metadata": {},
   "outputs": [],
   "source": [
    "def resize_data(data):\n",
    "    data_upscaled = np.zeros((data.shape[0], 75, 75, 3))\n",
    "    for i, img in enumerate(data):\n",
    "        large_img = cv2.resize(img, dsize=(75, 75), interpolation=cv2.INTER_CUBIC)\n",
    "        data_upscaled[i] = large_img\n",
    "\n",
    "    return data_upscaled"
   ]
  },
  {
   "cell_type": "code",
   "execution_count": 22,
   "metadata": {},
   "outputs": [],
   "source": [
    "# resize train and  test data\n",
    "x_train_resized = resize_data(x_train)\n",
    "x_test_resized = resize_data(x_test)\n",
    "\n",
    "# make explained variable hot-encoded\n",
    "y_train_hot_encoded = to_categorical(y_train)\n",
    "y_test_hot_encoded = to_categorical(y_test)"
   ]
  },
  {
   "cell_type": "code",
   "execution_count": 23,
   "metadata": {},
   "outputs": [
    {
     "data": {
      "text/plain": [
       "(2000, 75, 75, 3)"
      ]
     },
     "execution_count": 23,
     "metadata": {},
     "output_type": "execute_result"
    }
   ],
   "source": [
    "x_train_resized.shape"
   ]
  },
  {
   "cell_type": "raw",
   "metadata": {},
   "source": [
    "# freeze pre-trained model area's layer\n",
    "for layer in model.layers:\n",
    "    layer.trainable = False\n",
    "\n",
    "# update the weight that are added\n",
    "model.compile(optimizer='rmsprop', loss='categorical_crossentropy')\n",
    "model.fit(x_train_resized, y_train_hot_encoded)\n",
    "\n",
    "# choose the layers which are updated by training\n",
    "layer_num = len(model.layers)\n",
    "for layer in model.layers[:18]:\n",
    "    layer.trainable = False\n",
    "\n",
    "for layer in model.layers[18:]:\n",
    "    layer.trainable = True"
   ]
  },
  {
   "cell_type": "code",
   "execution_count": 25,
   "metadata": {},
   "outputs": [
    {
     "name": "stdout",
     "output_type": "stream",
     "text": [
      "Train on 1800 samples, validate on 200 samples\n",
      "Epoch 1/50\n",
      "1800/1800 [==============================] - 8s 4ms/step - loss: 2.5634 - acc: 0.0989 - val_loss: 14.5063 - val_acc: 0.1000\n",
      "Epoch 2/50\n",
      "1800/1800 [==============================] - 1s 480us/step - loss: 2.5706 - acc: 0.0989 - val_loss: 14.5063 - val_acc: 0.1000\n",
      "Epoch 3/50\n",
      "1800/1800 [==============================] - 1s 472us/step - loss: 2.5858 - acc: 0.0983 - val_loss: 14.5063 - val_acc: 0.1000\n",
      "Epoch 4/50\n",
      "1800/1800 [==============================] - 1s 472us/step - loss: 2.5682 - acc: 0.0983 - val_loss: 14.5063 - val_acc: 0.1000\n",
      "Epoch 5/50\n",
      "1800/1800 [==============================] - 1s 480us/step - loss: 2.5537 - acc: 0.1072 - val_loss: 14.5063 - val_acc: 0.1000\n",
      "Epoch 6/50\n",
      "1800/1800 [==============================] - 1s 476us/step - loss: 2.5705 - acc: 0.0900 - val_loss: 14.5063 - val_acc: 0.1000\n",
      "Epoch 7/50\n",
      "1800/1800 [==============================] - 1s 478us/step - loss: 2.5442 - acc: 0.1078 - val_loss: 14.5063 - val_acc: 0.1000\n",
      "Epoch 8/50\n",
      "1800/1800 [==============================] - 1s 481us/step - loss: 2.5720 - acc: 0.1022 - val_loss: 14.5063 - val_acc: 0.1000\n",
      "Epoch 9/50\n",
      "1800/1800 [==============================] - 1s 474us/step - loss: 2.5807 - acc: 0.0989 - val_loss: 14.5063 - val_acc: 0.1000\n",
      "Epoch 10/50\n",
      "1800/1800 [==============================] - 1s 470us/step - loss: 2.5664 - acc: 0.1078 - val_loss: 14.5063 - val_acc: 0.1000\n",
      "Epoch 11/50\n",
      "1800/1800 [==============================] - 1s 473us/step - loss: 2.5709 - acc: 0.0989 - val_loss: 14.5063 - val_acc: 0.1000\n",
      "Epoch 12/50\n",
      "1800/1800 [==============================] - 1s 493us/step - loss: 2.5470 - acc: 0.1083 - val_loss: 14.5063 - val_acc: 0.1000\n",
      "Epoch 13/50\n",
      "1800/1800 [==============================] - 1s 475us/step - loss: 2.5495 - acc: 0.1122 - val_loss: 14.5063 - val_acc: 0.1000\n",
      "Epoch 14/50\n",
      "1800/1800 [==============================] - 1s 473us/step - loss: 2.5949 - acc: 0.0944 - val_loss: 14.5063 - val_acc: 0.1000\n",
      "Epoch 15/50\n",
      "1800/1800 [==============================] - 1s 478us/step - loss: 2.5385 - acc: 0.0989 - val_loss: 14.5063 - val_acc: 0.1000\n",
      "Epoch 16/50\n",
      "1800/1800 [==============================] - 1s 469us/step - loss: 2.5925 - acc: 0.0972 - val_loss: 14.5063 - val_acc: 0.1000\n",
      "Epoch 17/50\n",
      "1800/1800 [==============================] - 1s 472us/step - loss: 2.5564 - acc: 0.1022 - val_loss: 14.5063 - val_acc: 0.1000\n",
      "Epoch 18/50\n",
      "1800/1800 [==============================] - 1s 473us/step - loss: 2.5721 - acc: 0.1006 - val_loss: 14.5063 - val_acc: 0.1000\n",
      "Epoch 19/50\n",
      "1800/1800 [==============================] - 1s 473us/step - loss: 2.5643 - acc: 0.1083 - val_loss: 14.5063 - val_acc: 0.1000\n",
      "Epoch 20/50\n",
      "1800/1800 [==============================] - 1s 472us/step - loss: 2.6055 - acc: 0.0961 - val_loss: 14.5063 - val_acc: 0.1000\n",
      "Epoch 21/50\n",
      "1800/1800 [==============================] - 1s 482us/step - loss: 2.5631 - acc: 0.1000 - val_loss: 14.5063 - val_acc: 0.1000\n",
      "Epoch 22/50\n",
      "1800/1800 [==============================] - 1s 485us/step - loss: 2.5500 - acc: 0.0989 - val_loss: 14.5063 - val_acc: 0.1000\n",
      "Epoch 23/50\n",
      "1800/1800 [==============================] - 1s 470us/step - loss: 2.5696 - acc: 0.0989 - val_loss: 14.5063 - val_acc: 0.1000\n",
      "Epoch 24/50\n",
      "1800/1800 [==============================] - 1s 490us/step - loss: 2.5780 - acc: 0.1056 - val_loss: 14.5063 - val_acc: 0.1000\n",
      "Epoch 25/50\n",
      "1800/1800 [==============================] - 1s 473us/step - loss: 2.5724 - acc: 0.1083 - val_loss: 14.5063 - val_acc: 0.1000\n",
      "Epoch 26/50\n",
      "1800/1800 [==============================] - 1s 478us/step - loss: 2.5762 - acc: 0.0972 - val_loss: 14.5063 - val_acc: 0.1000\n",
      "Epoch 27/50\n",
      "1800/1800 [==============================] - 1s 491us/step - loss: 2.5643 - acc: 0.1006 - val_loss: 14.5063 - val_acc: 0.1000\n",
      "Epoch 28/50\n",
      "1800/1800 [==============================] - 1s 488us/step - loss: 2.5718 - acc: 0.1033 - val_loss: 14.5063 - val_acc: 0.1000\n",
      "Epoch 29/50\n",
      "1800/1800 [==============================] - 1s 499us/step - loss: 2.5587 - acc: 0.1000 - val_loss: 14.5063 - val_acc: 0.1000\n",
      "Epoch 30/50\n",
      "1800/1800 [==============================] - 1s 498us/step - loss: 2.5734 - acc: 0.1000 - val_loss: 14.5063 - val_acc: 0.1000\n",
      "Epoch 31/50\n",
      "1800/1800 [==============================] - 1s 472us/step - loss: 2.5795 - acc: 0.0944 - val_loss: 14.5063 - val_acc: 0.1000\n",
      "Epoch 32/50\n",
      "1800/1800 [==============================] - 1s 483us/step - loss: 2.5836 - acc: 0.0917 - val_loss: 14.5063 - val_acc: 0.1000\n",
      "Epoch 33/50\n",
      "1800/1800 [==============================] - 1s 475us/step - loss: 2.5489 - acc: 0.0983 - val_loss: 14.5063 - val_acc: 0.1000\n",
      "Epoch 34/50\n",
      "1800/1800 [==============================] - 1s 473us/step - loss: 2.5616 - acc: 0.1083 - val_loss: 14.5063 - val_acc: 0.1000\n",
      "Epoch 35/50\n",
      "1800/1800 [==============================] - 1s 477us/step - loss: 2.5792 - acc: 0.0972 - val_loss: 14.5063 - val_acc: 0.1000\n",
      "Epoch 36/50\n",
      "1800/1800 [==============================] - 1s 483us/step - loss: 2.5304 - acc: 0.1128 - val_loss: 14.5063 - val_acc: 0.1000\n",
      "Epoch 37/50\n",
      "1800/1800 [==============================] - 1s 475us/step - loss: 2.5856 - acc: 0.0939 - val_loss: 14.5063 - val_acc: 0.1000\n",
      "Epoch 38/50\n",
      "1800/1800 [==============================] - 1s 475us/step - loss: 2.5721 - acc: 0.1056 - val_loss: 14.5063 - val_acc: 0.1000\n",
      "Epoch 39/50\n",
      "1800/1800 [==============================] - 1s 470us/step - loss: 2.5569 - acc: 0.0972 - val_loss: 14.5063 - val_acc: 0.1000\n",
      "Epoch 40/50\n",
      "1800/1800 [==============================] - 1s 483us/step - loss: 2.5337 - acc: 0.1067 - val_loss: 14.5063 - val_acc: 0.1000\n",
      "Epoch 41/50\n",
      "1800/1800 [==============================] - 1s 469us/step - loss: 2.5768 - acc: 0.0933 - val_loss: 14.5063 - val_acc: 0.1000\n",
      "Epoch 42/50\n",
      "1800/1800 [==============================] - 1s 470us/step - loss: 2.5882 - acc: 0.0950 - val_loss: 14.5063 - val_acc: 0.1000\n",
      "Epoch 43/50\n",
      "1800/1800 [==============================] - 1s 479us/step - loss: 2.5552 - acc: 0.1039 - val_loss: 14.5063 - val_acc: 0.1000\n",
      "Epoch 44/50\n",
      "1800/1800 [==============================] - 1s 479us/step - loss: 2.5558 - acc: 0.1011 - val_loss: 14.5063 - val_acc: 0.1000\n",
      "Epoch 45/50\n",
      "1800/1800 [==============================] - 1s 470us/step - loss: 2.5561 - acc: 0.1089 - val_loss: 14.5063 - val_acc: 0.1000\n",
      "Epoch 46/50\n",
      "1800/1800 [==============================] - 1s 473us/step - loss: 2.5475 - acc: 0.1017 - val_loss: 14.5063 - val_acc: 0.1000\n",
      "Epoch 47/50\n",
      "1800/1800 [==============================] - 1s 472us/step - loss: 2.5698 - acc: 0.1100 - val_loss: 14.5063 - val_acc: 0.1000\n",
      "Epoch 48/50\n",
      "1800/1800 [==============================] - 1s 477us/step - loss: 2.5457 - acc: 0.1000 - val_loss: 14.5063 - val_acc: 0.1000\n",
      "Epoch 49/50\n",
      "1800/1800 [==============================] - 1s 483us/step - loss: 2.5518 - acc: 0.1072 - val_loss: 14.5063 - val_acc: 0.1000\n",
      "Epoch 50/50\n",
      "1800/1800 [==============================] - 1s 516us/step - loss: 2.5602 - acc: 0.0839 - val_loss: 14.5063 - val_acc: 0.1000\n"
     ]
    }
   ],
   "source": [
    "model.compile(optimizer=SGD(lr=0.0001, momentum=0.9), loss='categorical_crossentropy', metrics=['accuracy'])\n",
    "history = model.fit(x_train_resized, y_train_hot_encoded, batch_size=256, epochs=50, shuffle=True,  validation_split=0.1)"
   ]
  },
  {
   "cell_type": "code",
   "execution_count": 27,
   "metadata": {},
   "outputs": [],
   "source": [
    "import matplotlib.pyplot as plt\n",
    "def show_history(history):\n",
    "    plt.plot(history.history['acc'])\n",
    "    plt.plot(history.history['val_acc'])\n",
    "    plt.ylabel('accuracy')\n",
    "    plt.xlabel('epoch')\n",
    "    plt.legend(['train_accuracy', 'test_accuracy'], loc='best')\n",
    "    plt.show()"
   ]
  },
  {
   "cell_type": "raw",
   "metadata": {},
   "source": [
    "# check the layers by name\n",
    "for i,layer in enumerate(model.layers):\n",
    "    print(i,layer.name)"
   ]
  }
 ],
 "metadata": {
  "kernelspec": {
   "display_name": "Python 3",
   "language": "python",
   "name": "python3"
  },
  "language_info": {
   "codemirror_mode": {
    "name": "ipython",
    "version": 3
   },
   "file_extension": ".py",
   "mimetype": "text/x-python",
   "name": "python",
   "nbconvert_exporter": "python",
   "pygments_lexer": "ipython3",
   "version": "3.6.8"
  }
 },
 "nbformat": 4,
 "nbformat_minor": 2
}
