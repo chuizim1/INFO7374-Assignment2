{
 "cells": [
  {
   "cell_type": "code",
   "execution_count": 1,
   "metadata": {},
   "outputs": [],
   "source": [
    "import os\n",
    "import glob\n",
    "import time\n",
    "import shutil"
   ]
  },
  {
   "cell_type": "code",
   "execution_count": 2,
   "metadata": {},
   "outputs": [],
   "source": [
    "main_folder = r\"D:/JupyterNotebook/Assignment2/tiny-imagenet-200/tiny-imagenet-200/train\""
   ]
  },
  {
   "cell_type": "code",
   "execution_count": 3,
   "metadata": {},
   "outputs": [],
   "source": [
    "sub_folders = os.walk(main_folder)"
   ]
  },
  {
   "cell_type": "code",
   "execution_count": 4,
   "metadata": {},
   "outputs": [],
   "source": [
    "list_folder = []\n",
    "for i in sub_folders:\n",
    "    list_folder.append(str(i[0]))"
   ]
  },
  {
   "cell_type": "code",
   "execution_count": 5,
   "metadata": {},
   "outputs": [
    {
     "data": {
      "text/plain": [
       "'D:/JupyterNotebook/Assignment2/tiny-imagenet-200/tiny-imagenet-200/train'"
      ]
     },
     "execution_count": 5,
     "metadata": {},
     "output_type": "execute_result"
    }
   ],
   "source": [
    "list_folder[0]"
   ]
  },
  {
   "cell_type": "code",
   "execution_count": 6,
   "metadata": {},
   "outputs": [],
   "source": [
    "sub_folders = os.listdir(main_folder)"
   ]
  },
  {
   "cell_type": "code",
   "execution_count": 7,
   "metadata": {},
   "outputs": [
    {
     "data": {
      "text/plain": [
       "200"
      ]
     },
     "execution_count": 7,
     "metadata": {},
     "output_type": "execute_result"
    }
   ],
   "source": [
    "len(sub_folders)"
   ]
  },
  {
   "cell_type": "code",
   "execution_count": 8,
   "metadata": {},
   "outputs": [],
   "source": [
    "output_folder = r\"D:/JupyterNotebook/Assignment2/train\""
   ]
  },
  {
   "cell_type": "code",
   "execution_count": 10,
   "metadata": {},
   "outputs": [],
   "source": [
    "for i in sub_folders:\n",
    "    os.mkdir(output_folder+\"/\"+str(i))\n",
    "    os.mkdir(output_folder+\"/\"+str(i)+\"/images\")"
   ]
  },
  {
   "cell_type": "code",
   "execution_count": null,
   "metadata": {},
   "outputs": [],
   "source": [
    "%run image_resizer_imagent.py -i /JupyterNotebook/Assignment2/tiny-imagenet-200/tiny-imagenet-200/train\\n01443537/images -o /JupyterNotebook/Assignment2/train/n01443537 -s 32 -a bilinear\n",
    "%tb"
   ]
  },
  {
   "cell_type": "code",
   "execution_count": 11,
   "metadata": {},
   "outputs": [
    {
     "name": "stdout",
     "output_type": "stream",
     "text": [
      "Time for execution: 0.0005002021789550781\n"
     ]
    }
   ],
   "source": [
    "start = time.time()\n",
    "commands = []\n",
    "for i in range(0,200):\n",
    "    input_folder = main_folder+\"/\"+sub_folders[i]+\"/images\"\n",
    "    out_folder = output_folder+\"/\"+sub_folders[i]+\"/images\"\n",
    "    command = \"python image_resizer_imagent.py -i \"+ str(input_folder) + \" -o \" + str(out_folder)+ \" -s 32 -a bilinear\"\n",
    "    commands.append(command)\n",
    "    #%run image_resizer_imagent.py -i input_folder -o out_folder -s 32 -a bilinear\n",
    "end = time.time()\n",
    "print(\"Time for execution: \" + str(end-start))"
   ]
  },
  {
   "cell_type": "code",
   "execution_count": 12,
   "metadata": {},
   "outputs": [
    {
     "data": {
      "text/plain": [
       "'python image_resizer_imagent.py -i D:/JupyterNotebook/Assignment2/tiny-imagenet-200/tiny-imagenet-200/train/n01443537/images -o D:/JupyterNotebook/Assignment2/train/n01443537/images -s 32 -a bilinear'"
      ]
     },
     "execution_count": 12,
     "metadata": {},
     "output_type": "execute_result"
    }
   ],
   "source": [
    "commands[0]"
   ]
  },
  {
   "cell_type": "code",
   "execution_count": null,
   "metadata": {},
   "outputs": [],
   "source": [
    "%run image_resizer_imagent.py -i D:/JupyterNotebook/Assignment2/tiny-imagenet-200/tiny-imagenet-200/train/n01443537/images -o D:/JupyterNotebook/Assignment2/train/n01443537/images -s 32 -a bilinear"
   ]
  },
  {
   "cell_type": "code",
   "execution_count": 13,
   "metadata": {},
   "outputs": [
    {
     "data": {
      "text/plain": [
       "0"
      ]
     },
     "execution_count": 13,
     "metadata": {},
     "output_type": "execute_result"
    }
   ],
   "source": [
    "os.system('temp.sh')"
   ]
  },
  {
   "cell_type": "code",
   "execution_count": 14,
   "metadata": {},
   "outputs": [
    {
     "data": {
      "text/plain": [
       "0"
      ]
     },
     "execution_count": 14,
     "metadata": {},
     "output_type": "execute_result"
    }
   ],
   "source": [
    "os.system('python image_resizer_imagent.py -i D:/JupyterNotebook/Assignment2/tiny-imagenet-200/tiny-imagenet-200/train/n01443537/images -o D:/JupyterNotebook/Assignment2/train/n01443537/images -s 32 -a bilinear')"
   ]
  },
  {
   "cell_type": "code",
   "execution_count": 15,
   "metadata": {},
   "outputs": [
    {
     "name": "stdout",
     "output_type": "stream",
     "text": [
      "Time for the execution: 132.19393157958984\n"
     ]
    }
   ],
   "source": [
    "start = time.time()\n",
    "for i in commands:\n",
    "    os.system(i)\n",
    "end = time.time()\n",
    "print(\"Time for the execution: \"+ str(end-start))"
   ]
  },
  {
   "cell_type": "code",
   "execution_count": 31,
   "metadata": {},
   "outputs": [
    {
     "data": {
      "text/plain": [
       "200"
      ]
     },
     "execution_count": 31,
     "metadata": {},
     "output_type": "execute_result"
    }
   ],
   "source": [
    "len(commands)"
   ]
  },
  {
   "cell_type": "code",
   "execution_count": null,
   "metadata": {},
   "outputs": [],
   "source": []
  }
 ],
 "metadata": {
  "kernelspec": {
   "display_name": "Python 3",
   "language": "python",
   "name": "python3"
  },
  "language_info": {
   "codemirror_mode": {
    "name": "ipython",
    "version": 3
   },
   "file_extension": ".py",
   "mimetype": "text/x-python",
   "name": "python",
   "nbconvert_exporter": "python",
   "pygments_lexer": "ipython3",
   "version": "3.6.8"
  }
 },
 "nbformat": 4,
 "nbformat_minor": 2
}
